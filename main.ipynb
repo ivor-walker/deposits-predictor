{
 "cells": [
  {
   "cell_type": "markdown",
   "id": "5f7298e9-1b86-49a8-999b-377654944998",
   "metadata": {},
   "source": [
    "**Data Preprocessing**"
   ]
  },
  {
   "cell_type": "markdown",
   "id": "6fa89622-8664-4ad6-b646-cc6c7bc91c7e",
   "metadata": {},
   "source": [
    "I conducted the exploratory analysis (EDA) in R (see eda.Rmd), and this part of the notebook deals with preparing the data using what I found from the EDA."
   ]
  },
  {
   "cell_type": "code",
   "execution_count": 1,
   "id": "80101c4a-06be-4254-8776-5124577e9d58",
   "metadata": {},
   "outputs": [],
   "source": [
    "from src.data_main import Data\n",
    "\n",
    "data = Data();"
   ]
  },
  {
   "cell_type": "markdown",
   "id": "79ec1e10-3d8e-496b-a957-ee084a56ddd3",
   "metadata": {},
   "source": [
    "Creating an instance of the Data class reads the data csv."
   ]
  },
  {
   "cell_type": "code",
   "execution_count": 2,
   "id": "5a752e8c-0f16-4168-8040-f51feae87f28",
   "metadata": {},
   "outputs": [
    {
     "name": "stderr",
     "output_type": "stream",
     "text": [
      "C:\\Users\\ivori\\Documents\\id5059\\deposits-predictor\\src\\data_main.py:47: FutureWarning: Downcasting behavior in `replace` is deprecated and will be removed in a future version. To retain the old behavior, explicitly call `result.infer_objects(copy=False)`. To opt-in to the future behavior, set `pd.set_option('future.no_silent_downcasting', True)`\n",
      "  self.data[\"response\"] = self.data[\"y\"].replace({\"no\": 0, \"yes\": 1});\n"
     ]
    }
   ],
   "source": [
    "data._Data__convert_response();"
   ]
  },
  {
   "cell_type": "markdown",
   "id": "2011d1bf-2b17-4b73-acec-3208e0ee69cd",
   "metadata": {},
   "source": [
    "I convert the response variable to boolean."
   ]
  },
  {
   "cell_type": "code",
   "execution_count": 3,
   "id": "f255758f-7f3a-4a79-921e-539416158dcc",
   "metadata": {},
   "outputs": [],
   "source": [
    "data._Data__create_day_ids();"
   ]
  },
  {
   "cell_type": "markdown",
   "id": "a0290e6f-fb80-4e08-84aa-f90b948568ef",
   "metadata": {},
   "source": [
    "The EDA revealed this data has a significant temporal component. Given the data is ordered and I have days of week, I can create a helper column called \"new_day\" to mark changes in the day of week, and cumulatively sum over it to get a \"day_id\" or the number of days elapsed since data collection started."
   ]
  },
  {
   "cell_type": "code",
   "execution_count": 4,
   "id": "bd941536-c3de-451a-82b5-71c27bd74120",
   "metadata": {},
   "outputs": [],
   "source": [
    "data._Data__convert_to_categorical();"
   ]
  },
  {
   "cell_type": "markdown",
   "id": "0c5fd244-7e5d-4f47-9da2-3b6a3758d2a9",
   "metadata": {},
   "source": [
    "I convert all string columns to categorical values. The EDA identified that some numerical variables would be inappropriate to represent as continuous (i.e previous), so I convert them to categorical as well."
   ]
  },
  {
   "cell_type": "code",
   "execution_count": 5,
   "id": "653986b6-2e69-4fc7-8348-4bc7a9579867",
   "metadata": {},
   "outputs": [],
   "source": [
    "data._Data__merge(\"loan\", \"housing\");\n",
    "data._Data__merge(\"poutcome\", \"previous\");"
   ]
  },
  {
   "cell_type": "markdown",
   "id": "56bc03f8-1e8a-478e-a4d0-46595a77e23d",
   "metadata": {},
   "source": [
    "EDA identified that these columns need to be merged for linear models because some levels of this category are perfectly multcolinear with each other."
   ]
  },
  {
   "cell_type": "code",
   "execution_count": 6,
   "id": "563a3466-d2f5-4a37-8f60-1a0f5537df0b",
   "metadata": {},
   "outputs": [
    {
     "name": "stderr",
     "output_type": "stream",
     "text": [
      "C:\\Users\\ivori\\Documents\\id5059\\deposits-predictor\\src\\data_main.py:117: FutureWarning: The behavior of Series.replace (and DataFrame.replace) with CategoricalDtype is deprecated. In a future version, replace will only be used for cases that preserve the categories. To change the categories, use ser.cat.rename_categories instead.\n",
      "  self.data[\"default_group\"] = self.data[\"default\"].replace({\"unknown\": \"unknown_or_yes\", \"yes\": \"unknown_or_yes\"});\n"
     ]
    }
   ],
   "source": [
    "data._Data__bin_continuous();\n",
    "data._Data__bin_categorical();"
   ]
  },
  {
   "cell_type": "markdown",
   "id": "790d0c07-896a-4711-998b-ab8eac386850",
   "metadata": {},
   "source": [
    "EDA showed densities of certain non-linear continuous variables are neatly seperated by class at some thresholds (age, pdays, campaign) so linear models can use them to seperate between classes. Similarly, certain categoricals (default) have some unecessary levels that can be removed to reduce their complexity and standard error."
   ]
  },
  {
   "cell_type": "code",
   "execution_count": 7,
   "id": "d3c9127b-3122-4520-ae71-ec99303039c0",
   "metadata": {},
   "outputs": [],
   "source": [
    "data._Data__encode_categorical();"
   ]
  },
  {
   "cell_type": "markdown",
   "id": "2c7b888f-a337-457c-84d8-b5bea826f8f2",
   "metadata": {},
   "source": [
    "I perform one-hot encoding of all categorical variables to make it easier for models to interpret."
   ]
  },
  {
   "cell_type": "code",
   "execution_count": 8,
   "id": "3f7ee69d-f5a7-4e68-bbe2-ecb3003425fd",
   "metadata": {},
   "outputs": [],
   "source": [
    "data._Data__remove_unfair_predictors();"
   ]
  },
  {
   "cell_type": "markdown",
   "id": "3f994a05-244b-4735-856e-71459ed8ef0c",
   "metadata": {},
   "source": [
    "Some predictors (duration) are only known after a recording is complete, so need to be removed."
   ]
  },
  {
   "cell_type": "code",
   "execution_count": 9,
   "id": "c099570a-9991-4399-b6ff-3a98b8db322a",
   "metadata": {},
   "outputs": [],
   "source": [
    "data._Data__split_data();"
   ]
  },
  {
   "cell_type": "markdown",
   "id": "b688db08-a058-4fd1-aeb3-3de240073250",
   "metadata": {},
   "source": [
    "The EDA identified a significant temporal component to the data. To produce genuine predictions in the future, a successful model needs to be able to infer temporal patterns in the data using day_id. I choose to split the data based on day_id. The idea here is to train the model on a lot of historical data with different temporal patterns (e.g the strategy shifts identified in EDA) so the model learns these different patterns, then test them on the most recent data. Given the most recent days contain the fewest records, a balance needs to be struck between showing the model enough of the most recent temporal pattern and restricting the size of the training data to reduce overfitting."
   ]
  },
  {
   "cell_type": "code",
   "execution_count": 10,
   "id": "90cfda6d-64e7-499c-96fa-458d14d59022",
   "metadata": {},
   "outputs": [
    {
     "data": {
      "text/plain": [
       "np.float64(260.0)"
      ]
     },
     "execution_count": 10,
     "metadata": {},
     "output_type": "execute_result"
    }
   ],
   "source": [
    "data.split_day"
   ]
  },
  {
   "cell_type": "code",
   "execution_count": 11,
   "id": "d1d964c5-24d9-434e-93ab-6cdbd7e00af4",
   "metadata": {},
   "outputs": [
    {
     "data": {
      "text/plain": [
       "0.06958337379819365"
      ]
     },
     "execution_count": 11,
     "metadata": {},
     "output_type": "execute_result"
    }
   ],
   "source": [
    "data.test_prop"
   ]
  },
  {
   "cell_type": "code",
   "execution_count": 12,
   "id": "1310cdc6-5515-4a6d-9fcf-90553ff8df9a",
   "metadata": {},
   "outputs": [
    {
     "data": {
      "text/plain": [
       "0.9304166262018063"
      ]
     },
     "execution_count": 12,
     "metadata": {},
     "output_type": "execute_result"
    }
   ],
   "source": [
    "data.train_prop"
   ]
  },
  {
   "cell_type": "markdown",
   "id": "8e958224-4276-4489-ada0-c10e1bc33b46",
   "metadata": {},
   "source": [
    "This proportion of training is higher than normal (0.8), so models trained with this split have a tendancy to overfit to the training data, but is necessary for the model to learn about the most recent data."
   ]
  },
  {
   "cell_type": "code",
   "execution_count": 13,
   "id": "0cd4a7e9-9f3a-461f-906c-0c25df4cd943",
   "metadata": {},
   "outputs": [
    {
     "data": {
      "text/plain": [
       "response\n",
       "False    36548\n",
       "True      4640\n",
       "Name: count, dtype: int64"
      ]
     },
     "execution_count": 13,
     "metadata": {},
     "output_type": "execute_result"
    }
   ],
   "source": [
    "data.data[\"response\"].value_counts()"
   ]
  },
  {
   "cell_type": "markdown",
   "id": "adc326e7-b1ff-4353-96cf-5c4019701de2",
   "metadata": {},
   "source": [
    "The data as a whole has a class imbalance, but EDA identified that the class balance becomes more equal for more recent observations. Data split using the above splitting schema will have different balances for training and testing data, so I oversample the True class in the training data so a) it resembles the split of the testing data and b) it learns characteristics of True at the same level as False."
   ]
  },
  {
   "cell_type": "markdown",
   "id": "2c9b2017-aeaa-45a3-aa52-ddf0299682ba",
   "metadata": {},
   "source": [
    "Linear models (e.g GAM fitted during EDA) sometimes work best with non-linear continuous by binning and need some adjustments to avoid perfect multicolinearity, whereas machine learning models (e.g DecisionTree, RandomForest, SGD) work best by inferring the bins themselves and need no such adjustments. I create two sets of data: \"sensitive\" for linear models and \"insensitive\" for ML."
   ]
  },
  {
   "cell_type": "code",
   "execution_count": 18,
   "id": "dc0f8fae-12be-4105-8fc2-712debe177af",
   "metadata": {},
   "outputs": [
    {
     "data": {
      "text/plain": [
       "Index(['age', 'campaign', 'pdays', 'emp.var.rate', 'cons.price.idx',\n",
       "       'cons.conf.idx', 'euribor3m', 'nr.employed', 'day_id', 'job_admin.',\n",
       "       'job_blue-collar', 'job_entrepreneur', 'job_housemaid',\n",
       "       'job_management', 'job_retired', 'job_self-employed', 'job_services',\n",
       "       'job_student', 'job_technician', 'job_unemployed', 'job_unknown',\n",
       "       'marital_divorced', 'marital_married', 'marital_single',\n",
       "       'marital_unknown', 'education_basic.4y', 'education_basic.6y',\n",
       "       'education_basic.9y', 'education_high.school', 'education_illiterate',\n",
       "       'education_professional.course', 'education_university.degree',\n",
       "       'education_unknown', 'default_no', 'default_unknown', 'default_yes',\n",
       "       'housing_no', 'housing_unknown', 'housing_yes', 'loan_no',\n",
       "       'loan_unknown', 'loan_yes', 'contact_cellular', 'contact_telephone',\n",
       "       'month_apr', 'month_aug', 'month_dec', 'month_jul', 'month_jun',\n",
       "       'month_mar', 'month_may', 'month_nov', 'month_oct', 'month_sep',\n",
       "       'day_of_week_fri', 'day_of_week_mon', 'day_of_week_thu',\n",
       "       'day_of_week_tue', 'day_of_week_wed', 'previous_0', 'previous_1',\n",
       "       'previous_2', 'previous_3', 'previous_4', 'previous_5', 'previous_6',\n",
       "       'previous_7', 'poutcome_failure', 'poutcome_nonexistent',\n",
       "       'poutcome_success'],\n",
       "      dtype='object')"
      ]
     },
     "execution_count": 18,
     "metadata": {},
     "output_type": "execute_result"
    }
   ],
   "source": [
    "data.insensitive_train_X.columns"
   ]
  },
  {
   "cell_type": "code",
   "execution_count": 17,
   "id": "927e9812-b2de-442a-a8d1-1f60e3b9db9c",
   "metadata": {},
   "outputs": [
    {
     "data": {
      "text/plain": [
       "Index(['emp.var.rate', 'cons.price.idx', 'cons.conf.idx', 'euribor3m',\n",
       "       'nr.employed', 'day_id', 'job_admin.', 'job_blue-collar',\n",
       "       'job_entrepreneur', 'job_housemaid',\n",
       "       ...\n",
       "       'campaign_group_2', 'campaign_group_3', 'campaign_group_4',\n",
       "       'campaign_group_5', 'campaign_group_6', 'campaign_group_7',\n",
       "       'campaign_group_8', 'campaign_group_9+', 'default_group_no',\n",
       "       'default_group_unknown_or_yes'],\n",
       "      dtype='object', length=127)"
      ]
     },
     "execution_count": 17,
     "metadata": {},
     "output_type": "execute_result"
    }
   ],
   "source": [
    "data.sensitive_train_X.columns"
   ]
  },
  {
   "cell_type": "markdown",
   "id": "7f37a3c2-b697-4b88-b96b-34c78f7ab859",
   "metadata": {},
   "source": [
    "Finally, I create validation sets from a random sample of 20% of the training data to tune hyperparameters and decision thresholds with."
   ]
  },
  {
   "cell_type": "markdown",
   "id": "f0531149-45ad-4d17-ab0d-0e12e8b792ff",
   "metadata": {},
   "source": [
    "**Modelling and Evaluation**"
   ]
  },
  {
   "cell_type": "code",
   "execution_count": 19,
   "id": "26c0c038-e6ae-45c2-b259-b0fb0c80c538",
   "metadata": {},
   "outputs": [
    {
     "ename": "ModuleNotFoundError",
     "evalue": "No module named 'models'",
     "output_type": "error",
     "traceback": [
      "\u001b[31m---------------------------------------------------------------------------\u001b[39m",
      "\u001b[31mModuleNotFoundError\u001b[39m                       Traceback (most recent call last)",
      "\u001b[36mCell\u001b[39m\u001b[36m \u001b[39m\u001b[32mIn[19]\u001b[39m\u001b[32m, line 1\u001b[39m\n\u001b[32m----> \u001b[39m\u001b[32m1\u001b[39m \u001b[38;5;28;01mfrom\u001b[39;00m\u001b[38;5;250m \u001b[39m\u001b[34;01msrc\u001b[39;00m\u001b[34;01m.\u001b[39;00m\u001b[34;01mmodels_main\u001b[39;00m\u001b[38;5;250m \u001b[39m\u001b[38;5;28;01mimport\u001b[39;00m Models\n\u001b[32m      3\u001b[39m models = Models(data);\n",
      "\u001b[36mFile \u001b[39m\u001b[32m~\\Documents\\id5059\\deposits-predictor\\src\\models_main.py:1\u001b[39m\n\u001b[32m----> \u001b[39m\u001b[32m1\u001b[39m \u001b[38;5;28;01mfrom\u001b[39;00m\u001b[38;5;250m \u001b[39m\u001b[34;01mmodels\u001b[39;00m\u001b[34;01m.\u001b[39;00m\u001b[34;01mtree\u001b[39;00m\u001b[34;01m.\u001b[39;00m\u001b[34;01mdt\u001b[39;00m\u001b[38;5;250m \u001b[39m\u001b[38;5;28;01mimport\u001b[39;00m DecisionTree\n\u001b[32m      2\u001b[39m \u001b[38;5;28;01mfrom\u001b[39;00m\u001b[38;5;250m \u001b[39m\u001b[34;01mmodels\u001b[39;00m\u001b[34;01m.\u001b[39;00m\u001b[34;01mtree\u001b[39;00m\u001b[34;01m.\u001b[39;00m\u001b[34;01mrf\u001b[39;00m\u001b[38;5;250m \u001b[39m\u001b[38;5;28;01mimport\u001b[39;00m RandomForest\n\u001b[32m      3\u001b[39m \u001b[38;5;28;01mfrom\u001b[39;00m\u001b[38;5;250m \u001b[39m\u001b[34;01mmodels\u001b[39;00m\u001b[34;01m.\u001b[39;00m\u001b[34;01mdtb\u001b[39;00m\u001b[34;01m.\u001b[39;00m\u001b[34;01msgd\u001b[39;00m\u001b[38;5;250m \u001b[39m\u001b[38;5;28;01mimport\u001b[39;00m SGD\n",
      "\u001b[31mModuleNotFoundError\u001b[39m: No module named 'models'"
     ]
    }
   ],
   "source": [
    "from src.models_main import Models\n",
    "\n",
    "models = Models(data);"
   ]
  }
 ],
 "metadata": {
  "kernelspec": {
   "display_name": "Python 3 (ipykernel)",
   "language": "python",
   "name": "python3"
  },
  "language_info": {
   "codemirror_mode": {
    "name": "ipython",
    "version": 3
   },
   "file_extension": ".py",
   "mimetype": "text/x-python",
   "name": "python",
   "nbconvert_exporter": "python",
   "pygments_lexer": "ipython3",
   "version": "3.13.1"
  }
 },
 "nbformat": 4,
 "nbformat_minor": 5
}
